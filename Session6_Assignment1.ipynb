{
 "cells": [
  {
   "cell_type": "code",
   "execution_count": 5,
   "metadata": {},
   "outputs": [
    {
     "name": "stdout",
     "output_type": "stream",
     "text": [
      "\n",
      "Realization of vander matrix without vander function from left to right is as follows :\n",
      "\n",
      "[[1 1 1]\n",
      " [1 2 4]\n",
      " [1 3 9]] \n",
      "\n",
      "\n",
      "Realization of vander matrix without vander function from right to left is as follows : \n",
      "\n",
      "[[1 1 1]\n",
      " [4 2 1]\n",
      " [9 3 1]]\n",
      "\n",
      "Realization of vander matrix with vander function from left to right is as follows :\n",
      "\n",
      "[[ 1  4 16]\n",
      " [ 1  5 25]\n",
      " [ 1  6 36]]\n",
      "\n",
      "Realization of vander matrix with vander function from right to left is as follows : \n",
      "\n",
      "[[16  4  1]\n",
      " [25  5  1]\n",
      " [36  6  1]]\n"
     ]
    }
   ],
   "source": [
    "import numpy as np\n",
    "\n",
    "# Realization of the geometric progression of a matrix in terms of power of its element without numpy.vander method\n",
    "def power_matrix_without_vander(input_list):\n",
    "    # vector is realized as an 1d array of input list\n",
    "    vector = np.array(input_list)\n",
    "    length = len(input_list)\n",
    "    print(\"\\nRealization of vander matrix without vander function from left to right is as follows :\\n\")\n",
    "    # I have used column_stack to stack the elements of 1d array as columns to get a matrix\n",
    "    # Reversed(range) is used to get the realization from left to right\n",
    "    print(np.column_stack([vector**(length-i-1) for i in reversed(range(length))]),\"\\n\")\n",
    "    # Logic [1,2,3] ie.,for an example take second element which is 2. Hence 2 pow (3-0-1) = 2 pow(2) = 4 and so on..\n",
    "    print(\"\\nRealization of vander matrix without vander function from right to left is as follows : \\n\")\n",
    "    print(np.column_stack([vector**(length-i-1) for i in range(length)]))\n",
    "\n",
    "power_matrix_without_vander([1,2,3])\n",
    "\n",
    "\n",
    "def power_matrix_with_vander(input_list):\n",
    "    vector = np.array(input_list)\n",
    "    length = len(input_list)\n",
    "    print(\"\\nRealization of vander matrix with vander function from left to right is as follows :\\n\")\n",
    "    print(np.vander(vector,length, increasing = True))\n",
    "    print(\"\\nRealization of vander matrix with vander function from right to left is as follows : \\n\")\n",
    "    print(np.vander(vector,length))\n",
    "    \n",
    "power_matrix_with_vander([4,5,6])    "
   ]
  }
 ],
 "metadata": {
  "kernelspec": {
   "display_name": "Python 3",
   "language": "python",
   "name": "python3"
  },
  "language_info": {
   "codemirror_mode": {
    "name": "ipython",
    "version": 3
   },
   "file_extension": ".py",
   "mimetype": "text/x-python",
   "name": "python",
   "nbconvert_exporter": "python",
   "pygments_lexer": "ipython3",
   "version": "3.6.1"
  }
 },
 "nbformat": 4,
 "nbformat_minor": 2
}
